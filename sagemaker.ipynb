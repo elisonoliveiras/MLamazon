{
 "cells": [
  {
   "cell_type": "markdown",
   "metadata": {},
   "source": [
    "# 2 Importando sagemaker e outras coisas"
   ]
  },
  {
   "cell_type": "code",
   "execution_count": null,
   "metadata": {},
   "outputs": [],
   "source": [
    "import os\n",
    "import json\n",
    "import boto3\n",
    "import random\n",
    "import shutil\n",
    "\n",
    "from tqdm import tqdm\n",
    "\n",
    "import sagemaker\n",
    "from sagemaker.session import Session\n",
    "from sagemaker import get_execution_role\n",
    "from sagemaker.analytics import HyperparameterTuningJobAnalytics\n",
    "from sagemaker.tuner import CategoricalParameter, ContinuousParameter, HyperparameterTuner, IntegerParameter\n",
    "from sagemaker.pytorch import PyTorch, PyTorchModel\n",
    "from sagemaker.predictor import Predictor\n",
    "from sagemaker.debugger import Rule, rule_configs, ProfilerRule, DebuggerHookConfig, CollectionConfig, ProfilerConfig, FrameworkProfile\n",
    "from smdebug.trials import create_trial\n",
    "from smdebug.core.modes import ModeKeys\n",
    "\n",
    "from IPython.display import Image, display\n",
    "\n",
    "#tem que instalar c++ build tools https://visualstudio.microsoft.com/visual-cpp-build-tools/ e dar pip install --upgrade setuptools\n"
   ]
  },
  {
   "cell_type": "markdown",
   "metadata": {},
   "source": [
    "## 3 Baixando Imagens"
   ]
  },
  {
   "cell_type": "code",
   "execution_count": null,
   "metadata": {},
   "outputs": [],
   "source": [
    "def download_and_arrange_data():\n",
    "    s3_client = boto3.client('s3')\n",
    "    \n",
    "    with open('file_list.json', 'r') as f:\n",
    "        d = json.load(f)\n",
    "        \n",
    "    for k, v in d.items():\n",
    "        print(f\"Downloading Images with {k} objects\")\n",
    "        directory = os.path.join('train_data', k)\n",
    "        if not os.path.exists(directory):\n",
    "            os.makedirs(directory)\n",
    "        for file_path in tqdm(v):\n",
    "            file_name = os.path.basename(file_path).split('.')[0] + '.jpg'\n",
    "            s3_client.download_file('aft-vbi-pds', os.path.join('bin-images', file_name), \n",
    "                                    os.path.join(directory, file_name))\n",
    "\n",
    "download_and_arrange_data()\n",
    "\n",
    "#falta file_list.json que é um outro arquivo"
   ]
  },
  {
   "cell_type": "markdown",
   "metadata": {},
   "source": [
    "## 4 Plotando gráfico dos dados"
   ]
  },
  {
   "cell_type": "code",
   "execution_count": null,
   "metadata": {},
   "outputs": [],
   "source": [
    "# Using plotly, create bar plot of number_imgs versus number_objects\n",
    "import plotly.graph_objects as go\n",
    "\n",
    "number_objects = ['1', '2', '3', '4', '5']\n",
    "number_imgs = [len(d[n]) for n in d]\n",
    "imgs_total = sum(number_imgs)\n",
    "\n",
    "fig = go.Figure(data=[go.Bar(x=number_objects, y=number_imgs)])\n",
    "# Add title and axis labels\n",
    "fig.update_layout(title_text='Number of Images per Number of Objects in Image', \n",
    "                  xaxis_title_text='Number of Objects', \n",
    "                  yaxis_title_text='Number of Images')\n",
    "# Set width and height of the figure\n",
    "fig.update_layout(width=600, height=500)\n",
    "fig.show()\n"
   ]
  },
  {
   "cell_type": "markdown",
   "metadata": {},
   "source": [
    "# 5 Organizando Imagens"
   ]
  },
  {
   "cell_type": "code",
   "execution_count": null,
   "metadata": {},
   "outputs": [],
   "source": [
    "# Set the paths\n",
    "train_folder = 'train_data'\n",
    "test_folder = 'test_data'\n",
    "validation_folder = 'validation_data'\n",
    "\n",
    "# Create test and validation folders if they don't exist\n",
    "os.makedirs(test_folder, exist_ok=True)\n",
    "os.makedirs(validation_folder, exist_ok=True)\n",
    "\n",
    "# Define the number of images to select\n",
    "test_set_ratio = 0.05\n",
    "validation_set_ratio = 0.1\n",
    "\n",
    "# Iterate over each class directory\n",
    "for class_dir in os.listdir(train_folder):\n",
    "    class_path = os.path.join(train_folder, class_dir)\n",
    "\n",
    "    if os.path.isdir(class_path):\n",
    "        image_list = os.listdir(class_path)\n",
    "\n",
    "        # Shuffle the image list and split it\n",
    "        random.shuffle(image_list)\n",
    "        test_set_size = int(len(image_list) * test_set_ratio)\n",
    "        validation_set_size = int(len(image_list) * validation_set_ratio)\n",
    "        test_set = image_list[:test_set_size]\n",
    "        validation_set = image_list[test_set_size:test_set_size+validation_set_size]\n",
    "\n",
    "        # Move test images to the test folder\n",
    "        for image in test_set:\n",
    "            src = os.path.join(class_path, image)\n",
    "            dst = os.path.join(test_folder, class_dir, image)\n",
    "            os.makedirs(os.path.dirname(dst), exist_ok=True)\n",
    "            shutil.move(src, dst)\n",
    "\n",
    "        # Move validation images to the validation folder\n",
    "        for image in validation_set:\n",
    "            src = os.path.join(class_path, image)\n",
    "            dst = os.path.join(validation_folder, class_dir, image)\n",
    "            os.makedirs(os.path.dirname(dst), exist_ok=True)\n",
    "            shutil.move(src, dst)\n"
   ]
  },
  {
   "cell_type": "markdown",
   "metadata": {},
   "source": [
    "# 6 Criando Imagem Docker e definindo e Definindo Hiperparâmetros"
   ]
  },
  {
   "cell_type": "code",
   "execution_count": null,
   "metadata": {},
   "outputs": [],
   "source": [
    "role = \"arn:aws:iam::\"\n",
    "sagemaker_session = sagemaker.Session{}\n",
    "\n",
    "#tem que copiar do cara lá"
   ]
  },
  {
   "cell_type": "code",
   "execution_count": null,
   "metadata": {},
   "outputs": [],
   "source": [
    "hyperparameter_ranges = {\n",
    "    'learning_rate': ContinuousParameter(0.001, 0.1),\n",
    "    'batch_size': CategoricalParameter([16, 32, 64]),\n",
    "}\n",
    "\n",
    "objective_metric_name = \"Valid Loss\"\n",
    "objective_type = \"Minimize\"\n",
    "metric_definitions = [{\"Name\": \"Valid Loss\", \"Regex\": \"Final Validation Loss: ([0-9\\\\.]+)\"}]\n",
    "\n",
    "estimator = PyTorch(entry_point=\"train.py\",\n",
    "                    base_job_name=\"object-counter\",\n",
    "                    role=role,\n",
    "                    framework_version=\"2.0.0\",\n",
    "                    py_version=\"py312\",\n",
    "                    instance_count=1,\n",
    "                    instance_type=\"ml.c5.2xlarge\",\n",
    "                    # hyperparameters=hyperparameters,\n",
    "                    output_path='s3://{s3_bucket}/training_output')\n",
    "\n",
    "tuner = HyperparameterTuner(\n",
    "    estimator,\n",
    "    objective_metric_name,\n",
    "    hyperparameter_ranges,\n",
    "    metric_definitions,\n",
    "    max_jobs=4,\n",
    "    max_parallel_jobs=1,\n",
    "    objective_type=objective_type\n",
    ")\n"
   ]
  },
  {
   "cell_type": "code",
   "execution_count": null,
   "metadata": {},
   "outputs": [],
   "source": [
    "tuner.fit({'training': input_path}, wait=True, logs='All')"
   ]
  },
  {
   "cell_type": "code",
   "execution_count": null,
   "metadata": {},
   "outputs": [],
   "source": [
    "exp = HyperparameterTuningJobAnalytics(hyperparameter_tuning_job_name='pytorch-training-230614-1612')\n",
    "training_jobs = exp.dataframe()\n",
    "training_jobs.sort_values('FinalObjectiveValue', ascending=0)"
   ]
  },
  {
   "cell_type": "code",
   "execution_count": null,
   "metadata": {},
   "outputs": [],
   "source": [
    "best_estimator = tuner.best_estimator()\n",
    "best_estimator.hyperparameters()"
   ]
  },
  {
   "cell_type": "markdown",
   "metadata": {},
   "source": [
    "## 7 Instanciando um pc com placa de vídeo"
   ]
  },
  {
   "cell_type": "code",
   "execution_count": null,
   "metadata": {},
   "outputs": [],
   "source": [
    "rules = [\n",
    "    Rule.sagemaker(rule_configs.loss_not_decreasing()),\n",
    "    Rule.sagemaker(rule_configs.vanishing_gradient()),\n",
    "    ProfilerRule.sagemaker(rule_configs.LowGPUUtilization()),\n",
    "    Rule.sagemaker(rule_configs.poor_weight_initialization()),\n",
    "    ProfilerRule.sagemaker(rule_configs.ProfilerReport()),\n",
    "]\n",
    "\n",
    "profiler_config = ProfilerConfig(system_monitor_interval_millis=1000)\n",
    "hyperparameters = {\n",
    "'batch_size': 32,\n",
    "'epochs': 20,\n",
    "'learning_rate': 0.003\n",
    "}\n",
    "\n",
    "estimator = PyTorch(entry_point='train.py',\n",
    "                    base_job_name='object-counter',\n",
    "                    role = role,\n",
    "                    framework_version='2.0.0',\n",
    "                    py_version='py310',\n",
    "                    instance_count=1,\n",
    "                    instance_type='al.p3.2xlarge',\n",
    "                    hyperparameters = hyperparameters,\n",
    "                    output_path=f's3://{s3_bucket}/training_output',\n",
    "                    rules = rules,\n",
    "                    profiler_config=profiler_config)"
   ]
  },
  {
   "cell_type": "code",
   "execution_count": null,
   "metadata": {},
   "outputs": [],
   "source": [
    "tuner.fit({'training': input_path}, wait=True, logs='All')"
   ]
  },
  {
   "cell_type": "code",
   "execution_count": null,
   "metadata": {},
   "outputs": [],
   "source": [
    "# System usage statistics from profiler report\n",
    "Image(filename='system-usage-statistics.jpg')"
   ]
  },
  {
   "cell_type": "markdown",
   "metadata": {},
   "source": [
    "## 8 Model Deploying and Querying"
   ]
  },
  {
   "cell_type": "code",
   "execution_count": null,
   "metadata": {},
   "outputs": [],
   "source": [
    "model_location = estimator.model_data\n",
    "model_location"
   ]
  },
  {
   "cell_type": "code",
   "execution_count": null,
   "metadata": {},
   "outputs": [],
   "source": [
    "jpeg_serializer = sagemaker.serializers.IdentitySerializer(\"image/jpeg\")\n",
    "json_deserializer = sagemaker.deserializers.JSONDeserializer()\n",
    "class IngPredictor (Predictor):\n",
    "    def _init_(self, endpoint_name, sagemaker_session):\n",
    "        super(IngPredictor, self).__init_(\n",
    "            endpoint_name,\n",
    "            sagemaker_session=sagemaker session,\n",
    "            serializer=jpeg_serializer,\n",
    "            deserializer=json_deserializer\n",
    "        )\n",
    "\n",
    "pytorch_model= PyTorchModel(model_data=model_location,\n",
    "                            role=role,\n",
    "                            entry_point=\"deploy.py\",\n",
    "                            py_version=\"py310\",\n",
    "                            framework_version=\"2.0.0\",\n",
    "                            predictor_cls=IngPredictor\n",
    "                            )\n",
    "predictor = pytorch_model.deploy(initial_instance_count=1, instance_type=\"ml.m5.2xlarge\")"
   ]
  },
  {
   "cell_type": "code",
   "execution_count": null,
   "metadata": {},
   "outputs": [],
   "source": [
    "from PIL import Image\n",
    "import io\n",
    "import numpy as np\n",
    "test_class='5'\n",
    "test_image= os.path.join(test_folder, test_class, random.choice(os.listdir(os.path.join(test_folder, test_class))))\n",
    "with open(test_image, 'rb') as f:\n",
    "    payload = f.read()\n",
    "    print('Sending the following image to AWS SageMaker endpoint:')\n",
    "    display(Image.open(io.Bytes10 (payload)))\n",
    "    print('Expecting the following class: (test_class)')\n",
    "    response = predictor.predict(payload, initial_args = {'ContentType': 'image/jpeg'})\n",
    "    prediction = np.argmax(response, 1) + 1\n",
    "    print(f'Predicted class: {prediction [0]}')"
   ]
  },
  {
   "cell_type": "code",
   "execution_count": null,
   "metadata": {},
   "outputs": [],
   "source": [
    "predictor.delete_point()"
   ]
  }
 ],
 "metadata": {
  "kernelspec": {
   "display_name": "Python 3",
   "language": "python",
   "name": "python3"
  },
  "language_info": {
   "codemirror_mode": {
    "name": "ipython",
    "version": 3
   },
   "file_extension": ".py",
   "mimetype": "text/x-python",
   "name": "python",
   "nbconvert_exporter": "python",
   "pygments_lexer": "ipython3",
   "version": "3.12.6"
  }
 },
 "nbformat": 4,
 "nbformat_minor": 2
}
